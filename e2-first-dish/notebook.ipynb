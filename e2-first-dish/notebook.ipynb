{
 "cells": [
  {
   "attachments": {},
   "cell_type": "markdown",
   "metadata": {},
   "source": [
    "<!-- \n",
    "---\n",
    "\n",
    "### Promemoria: questo 📘 `.NET Interactive` deve essere eseguito da VS Code con [questi prerequisiti](../PREREQS.md).\n",
    "\n",
    "--- -->"
   ]
  },
  {
   "attachments": {},
   "cell_type": "markdown",
   "metadata": {},
   "source": [
    "# Ricetta II: 🍽️ Primo piatto\n",
    "## 🧑‍🍳 Cuciniamo il nostro 🛢️🔥 primo piatto base\n",
    "\n",
    "Questo quaderno è stato concepito per mostrare il modo più semplice per aggiungere l'intelligenza artificiale LLM a una vostra applicazione. \n",
    "È suddiviso in tre parti:\n",
    "\n",
    "1. **Impostazione della chiave OpenAI o Azure OpenAI Service.** In questo modo è possibile utilizzare il notebook come una sorta di parco giochi. È sufficiente inserire la chiave una sola volta per iniziare: viene memorizzata localmente in un file chiamato \"`settings.json`\" sul disco. Assicuratevi che questo file non venga visualizzato pubblicamente da nessuna parte, come ad esempio sul vostro repo personale di GitHub.\n",
    "\n",
    "2. **Ottenere un kernel 🔥 istanziato.** Con la chiave OpenAI o Azure OpenAI è possibile creare un kernel a cui inviare le istruzioni.\n",
    "Quando si usa OpenAI, viene utilizzato per default il modello `text-davinci-003`; quando si usa Azure OpenAI c'è un'ulteriore impostazione dell'endpoint da considerare e inoltre viene chiesto esplicitamente il modello che si desidera utilizzare.\n",
    "\n",
    "3. **Eseguire una semantic 🛢️ function.** Ok! Siete pronti a fare una richiesta in linguaggio naturale all'intelligenza artificiale LLM."
   ]
  },
  {
   "attachments": {},
   "cell_type": "markdown",
   "metadata": {},
   "source": [
    "## Step 1️: Impostare la chiave OpenAI o Azure OpenAI Service\n",
    "\n",
    "### 1.1: Il sistema vi chiederà di digitare la vostra chiave API segreta.\n",
    "\n",
    "La variabile booleana sottostante `useAzureOpenAI` deve essere impostata su `false` se si utilizza una normale chiave OpenAI e su `true` se si dispone di una chiave Azure OpenAI Service. Qualunque sia l'impostazione della variabile, nella 👆 parte superiore 👆 della pagina apparirà un riquadro rettangolare che chiederà di inserire le credenziali.\\\n",
    "Queste credenziali sono memorizzate **localmente** sul proprio disco e non vanno da nessuna parte."
   ]
  },
  {
   "cell_type": "code",
   "execution_count": 10,
   "metadata": {
    "dotnet_interactive": {
     "language": "csharp"
    },
    "polyglot_notebook": {
     "kernelName": "csharp"
    }
   },
   "outputs": [
    {
     "ename": "Error",
     "evalue": "Input request cancelled",
     "output_type": "error",
     "traceback": [
      "Input request cancelled"
     ]
    },
    {
     "ename": "Error",
     "evalue": "Input request cancelled",
     "output_type": "error",
     "traceback": [
      "Input request cancelled"
     ]
    },
    {
     "ename": "Error",
     "evalue": "System.Exception: Input request cancelled\r\n   at Microsoft.DotNet.Interactive.Kernel.GetInputAsync(String prompt, Boolean isPassword, String typeHint) in D:\\a\\_work\\1\\s\\src\\Microsoft.DotNet.Interactive\\Kernel.Static.cs:line 62\r\n   at Microsoft.DotNet.Interactive.Kernel.GetInputAsync(String prompt, String typeHint) in D:\\a\\_work\\1\\s\\src\\Microsoft.DotNet.Interactive\\Kernel.Static.cs:line 44\r\n   at Submission#16.Settings.AskAzureEndpoint(Boolean _useAzureOpenAI, String configFile)\r\n   at Submission#17.<<Initialize>>d__0.MoveNext()\r\n--- End of stack trace from previous location ---\r\n   at Microsoft.CodeAnalysis.Scripting.ScriptExecutionState.RunSubmissionsAsync[TResult](ImmutableArray`1 precedingExecutors, Func`2 currentExecutor, StrongBox`1 exceptionHolderOpt, Func`2 catchExceptionOpt, CancellationToken cancellationToken)",
     "output_type": "error",
     "traceback": [
      "System.Exception: Input request cancelled\r\n",
      "   at Microsoft.DotNet.Interactive.Kernel.GetInputAsync(String prompt, Boolean isPassword, String typeHint) in D:\\a\\_work\\1\\s\\src\\Microsoft.DotNet.Interactive\\Kernel.Static.cs:line 62\r\n",
      "   at Microsoft.DotNet.Interactive.Kernel.GetInputAsync(String prompt, String typeHint) in D:\\a\\_work\\1\\s\\src\\Microsoft.DotNet.Interactive\\Kernel.Static.cs:line 44\r\n",
      "   at Submission#16.Settings.AskAzureEndpoint(Boolean _useAzureOpenAI, String configFile)\r\n",
      "   at Submission#17.<<Initialize>>d__0.MoveNext()\r\n",
      "--- End of stack trace from previous location ---\r\n",
      "   at Microsoft.CodeAnalysis.Scripting.ScriptExecutionState.RunSubmissionsAsync[TResult](ImmutableArray`1 precedingExecutors, Func`2 currentExecutor, StrongBox`1 exceptionHolderOpt, Func`2 catchExceptionOpt, CancellationToken cancellationToken)"
     ]
    }
   ],
   "source": [
    "#!import ../config/Settings.cs\n",
    "\n",
    "bool useAzureOpenAI = true;\n",
    "\n",
    "await Settings.AskAzureEndpoint(useAzureOpenAI);\n",
    "await Settings.AskModel(useAzureOpenAI);\n",
    "await Settings.AskApiKey(useAzureOpenAI);"
   ]
  },
  {
   "attachments": {},
   "cell_type": "markdown",
   "metadata": {},
   "source": [
    "RICORDA: è sufficiente eseguire questa operazione **una volta**. Il resto dei notebook utilizzerà la chiave API memorizzata sul vostro computer in questo importante passaggio."
   ]
  },
  {
   "attachments": {},
   "cell_type": "markdown",
   "metadata": {},
   "source": [
    "### 1.2 Nel caso in cui si sia commesso un errore di immissione, seguire le seguenti istruzioni\n",
    "\n",
    "#### 🟡 **SALTA QUESTO STEP** se la chiave è già stata impostata con successo\n",
    "\n",
    "Premere il pulsante ▶️ solo se si desidera ripristinare quanto inserito in precedenza. Prima di farlo, è necessario \"decommentare\" due caratteri eliminando `//` all'inizio della riga 4.\n",
    "\n",
    "In altre parole, cambiare `// Settings.Reset();` in `Settings.Reset();`. In questo modo si \"decommenta\" quella riga di codice, in modo che diventi attiva."
   ]
  },
  {
   "cell_type": "code",
   "execution_count": 11,
   "metadata": {
    "dotnet_interactive": {
     "language": "csharp"
    },
    "polyglot_notebook": {
     "kernelName": "csharp"
    }
   },
   "outputs": [],
   "source": [
    "#!import ../config/Settings.cs\n",
    "\n",
    "// Uncomment the line below to reset your settings and run step 1.1 again so it asks you for your API key\n",
    "// Settings.Reset();"
   ]
  },
  {
   "attachments": {},
   "cell_type": "markdown",
   "metadata": {},
   "source": [
    "## Step 2️: Preparare un kernel 🔥 per cucinare il primo piatto\n",
    "\n",
    "Congratulazioni! Siete a un terzo del percorso! Premete ▶️ per accedere alle credenziali memorizzate localmente, impostate nel primo passo. Questo passo carica il pacchetto Microsoft.SemanticKernel e prepara il resto del blocco note per far funzionare subito la funzione semantica."
   ]
  },
  {
   "cell_type": "code",
   "execution_count": 12,
   "metadata": {
    "dotnet_interactive": {
     "language": "csharp"
    },
    "polyglot_notebook": {
     "kernelName": "csharp"
    }
   },
   "outputs": [
    {
     "data": {
      "text/html": [
       "<div><div></div><div></div><div><strong>Installed Packages</strong><ul><li><span>Microsoft.SemanticKernel, 0.9.61.1-preview</span></li></ul></div></div>"
      ]
     },
     "metadata": {},
     "output_type": "display_data"
    },
    {
     "name": "stdout",
     "output_type": "stream",
     "text": [
      "Configuration not found: ../config/settings.json\n",
      "\n",
      "Please run the Setup Notebook (0-AI-settings.ipynb) to configure your AI backend first.\n",
      "\n"
     ]
    },
    {
     "ename": "Error",
     "evalue": "System.Exception: Configuration not found, please setup the notebooks first using notebook 0-AI-settings.pynb\r\n   at Submission#20.Settings.LoadFromFile(String configFile)\r\n   at Submission#21.<<Initialize>>d__0.MoveNext()\r\n--- End of stack trace from previous location ---\r\n   at Microsoft.CodeAnalysis.Scripting.ScriptExecutionState.RunSubmissionsAsync[TResult](ImmutableArray`1 precedingExecutors, Func`2 currentExecutor, StrongBox`1 exceptionHolderOpt, Func`2 catchExceptionOpt, CancellationToken cancellationToken)",
     "output_type": "error",
     "traceback": [
      "System.Exception: Configuration not found, please setup the notebooks first using notebook 0-AI-settings.pynb\r\n",
      "   at Submission#20.Settings.LoadFromFile(String configFile)\r\n",
      "   at Submission#21.<<Initialize>>d__0.MoveNext()\r\n",
      "--- End of stack trace from previous location ---\r\n",
      "   at Microsoft.CodeAnalysis.Scripting.ScriptExecutionState.RunSubmissionsAsync[TResult](ImmutableArray`1 precedingExecutors, Func`2 currentExecutor, StrongBox`1 exceptionHolderOpt, Func`2 catchExceptionOpt, CancellationToken cancellationToken)"
     ]
    }
   ],
   "source": [
    "#r \"nuget: Microsoft.SemanticKernel, 0.9.61.1-preview\"\n",
    "\n",
    "#!import ../config/Settings.cs\n",
    "\n",
    "using Microsoft.SemanticKernel;\n",
    "using Microsoft.SemanticKernel.KernelExtensions;\n",
    "using System.IO;\n",
    "using Microsoft.SemanticKernel.Configuration;\n",
    "using Microsoft.SemanticKernel.SemanticFunctions;\n",
    "\n",
    "IKernel kernel = Microsoft.SemanticKernel.Kernel.Builder.Build();\n",
    "\n",
    "// Grab the locally stored credentials from the settings.json file. \n",
    "// Name the service as \"davinci\" — assuming that you're using one of the davinci completion models. \n",
    "var (useAzureOpenAI, model, azureEndpoint, apiKey, orgId) = Settings.LoadFromFile();\n",
    "\n",
    "if (useAzureOpenAI)\n",
    "    kernel.Config.AddAzureOpenAITextCompletion(\"davinci\", model, azureEndpoint, apiKey);\n",
    "else\n",
    "    kernel.Config.AddOpenAITextCompletion(\"davinci\", model, apiKey, orgId);"
   ]
  },
  {
   "attachments": {},
   "cell_type": "markdown",
   "metadata": {},
   "source": [
    "Se si vede una linea di conferma in alto che inizia con `Installed Packages ... • Microsoft.SemanticKernel, ...` procedere al punto 3."
   ]
  },
  {
   "attachments": {},
   "cell_type": "markdown",
   "metadata": {},
   "source": [
    "## Step 3️: Eseguire una funzione semantica 🛢️ in Semantic Kernel per 🔥cuocere "
   ]
  },
  {
   "attachments": {},
   "cell_type": "markdown",
   "metadata": {},
   "source": [
    "### Step 3.1: Definire un prompt parametrizzato che accetta un singolo input\n",
    "\n",
    "Il codice seguente è quello che chiamiamo \"funzione semantica\", che è quasi equivalente alla parola \"prompt\". "
   ]
  },
  {
   "cell_type": "code",
   "execution_count": 13,
   "metadata": {
    "dotnet_interactive": {
     "language": "csharp"
    },
    "polyglot_notebook": {
     "kernelName": "csharp"
    }
   },
   "outputs": [
    {
     "name": "stdout",
     "output_type": "stream",
     "text": [
      "A string has been set to be used as a semantic function.\r\n"
     ]
    }
   ],
   "source": [
    "string mySemanticFunctionInline = \"\"\"\n",
    "{{$input}}\n",
    "\n",
    "Summarize the content above in less than 140 characters.\n",
    "\"\"\";\n",
    "\n",
    "Console.WriteLine(\"A string has been set to be used as a semantic function.\");"
   ]
  },
  {
   "attachments": {},
   "cell_type": "markdown",
   "metadata": {},
   "source": [
    "Quindi la funzione semantica che stiamo per definire prende un testo `$input` e lo riassume in meno di 140 caratteri."
   ]
  },
  {
   "attachments": {},
   "cell_type": "markdown",
   "metadata": {},
   "source": [
    "### Step 3.2: Configurare il prompt per renderlo più non deterministico (creativo) o deterministico (diretto)\n",
    "\n",
    "#### 🔵 FAST TRACK Most people will just run the code below without much thought to tuning it, to start\n",
    "\n",
    "L'impostazione `MaxTokens` determina il numero massimo di tokens da generare nel completamento. È il parametro più importante [setting](https://learn.microsoft.com/en-us/semantic-kernel/howto/configuringfunctions) da conoscere, perché ha un impatto su quanto spendete per ogni richiesta.\n",
    "\n",
    "Inoltre, è possibile modellare in modo sottile l'uscita della risposta con gli altri due parametri. Per rendere la risposta più o meno \"creativa\", si può regolare l'impostazione `Temperatura' tra 0 e 1`. È inoltre possibile impostare il parametro `TopP` tra 0 (vocabolario più piccolo) e 1 (vocabolario più grande) per ottenere un risultato diverso."
   ]
  },
  {
   "cell_type": "code",
   "execution_count": 14,
   "metadata": {
    "dotnet_interactive": {
     "language": "csharp"
    },
    "polyglot_notebook": {
     "kernelName": "csharp"
    }
   },
   "outputs": [
    {
     "ename": "Error",
     "evalue": "Microsoft.SemanticKernel.KernelException: ServiceNotFound: Text completion service not available\r\n   at Microsoft.SemanticKernel.Configuration.KernelConfig.GetTextCompletionServiceIdOrDefault(String serviceId)\r\n   at Microsoft.SemanticKernel.Kernel.GetService[T](String name)\r\n   at Microsoft.SemanticKernel.Kernel.<CreateSemanticFunction>b__32_0()\r\n   at Microsoft.SemanticKernel.Orchestration.SKFunction.SetAIBackend(Func`1 backendFactory)\r\n   at Microsoft.SemanticKernel.Kernel.CreateSemanticFunction(String skillName, String functionName, SemanticFunctionConfig functionConfig)\r\n   at Microsoft.SemanticKernel.Kernel.RegisterSemanticFunction(String skillName, String functionName, SemanticFunctionConfig functionConfig)\r\n   at Submission#23.<<Initialize>>d__0.MoveNext()\r\n--- End of stack trace from previous location ---\r\n   at Microsoft.CodeAnalysis.Scripting.ScriptExecutionState.RunSubmissionsAsync[TResult](ImmutableArray`1 precedingExecutors, Func`2 currentExecutor, StrongBox`1 exceptionHolderOpt, Func`2 catchExceptionOpt, CancellationToken cancellationToken)",
     "output_type": "error",
     "traceback": [
      "Microsoft.SemanticKernel.KernelException: ServiceNotFound: Text completion service not available\r\n",
      "   at Microsoft.SemanticKernel.Configuration.KernelConfig.GetTextCompletionServiceIdOrDefault(String serviceId)\r\n",
      "   at Microsoft.SemanticKernel.Kernel.GetService[T](String name)\r\n",
      "   at Microsoft.SemanticKernel.Kernel.<CreateSemanticFunction>b__32_0()\r\n",
      "   at Microsoft.SemanticKernel.Orchestration.SKFunction.SetAIBackend(Func`1 backendFactory)\r\n",
      "   at Microsoft.SemanticKernel.Kernel.CreateSemanticFunction(String skillName, String functionName, SemanticFunctionConfig functionConfig)\r\n",
      "   at Microsoft.SemanticKernel.Kernel.RegisterSemanticFunction(String skillName, String functionName, SemanticFunctionConfig functionConfig)\r\n",
      "   at Submission#23.<<Initialize>>d__0.MoveNext()\r\n",
      "--- End of stack trace from previous location ---\r\n",
      "   at Microsoft.CodeAnalysis.Scripting.ScriptExecutionState.RunSubmissionsAsync[TResult](ImmutableArray`1 precedingExecutors, Func`2 currentExecutor, StrongBox`1 exceptionHolderOpt, Func`2 catchExceptionOpt, CancellationToken cancellationToken)"
     ]
    }
   ],
   "source": [
    "using Microsoft.SemanticKernel.KernelExtensions;\n",
    "using Microsoft.SemanticKernel.SemanticFunctions;\n",
    "\n",
    "var promptConfig = new PromptTemplateConfig\n",
    "{\n",
    "    Completion =\n",
    "    {\n",
    "        MaxTokens = 1000, Temperature = 0.2, TopP = 0.5,\n",
    "    }\n",
    "};\n",
    "\n",
    "var promptTemplate = new PromptTemplate(\n",
    "    mySemanticFunctionInline, promptConfig, kernel\n",
    ");\n",
    "\n",
    "var functionConfig = new SemanticFunctionConfig(promptConfig, promptTemplate);\n",
    "\n",
    "// \"MySkill\" is the name of the skill\n",
    "// \"Summary\" is the name of the semantic function\n",
    "var summaryFunction = kernel.RegisterSemanticFunction(\"MySkill\", \"Summary\", functionConfig);\n",
    "\n",
    "Console.WriteLine(\"A semantic function has been registered.\");\n"
   ]
  },
  {
   "attachments": {},
   "cell_type": "markdown",
   "metadata": {},
   "source": [
    "### Step 3.3: Set your input to the templated prompt and have the kernel 🔥 process it"
   ]
  },
  {
   "cell_type": "code",
   "execution_count": 15,
   "metadata": {
    "dotnet_interactive": {
     "language": "csharp"
    },
    "polyglot_notebook": {
     "kernelName": "csharp"
    }
   },
   "outputs": [
    {
     "ename": "Error",
     "evalue": "System.NullReferenceException: Object reference not set to an instance of an object.\r\n   at Microsoft.SemanticKernel.Kernel.RunAsync(ContextVariables variables, CancellationToken cancellationToken, ISKFunction[] pipeline)\r\n   at Submission#24.<<Initialize>>d__0.MoveNext()\r\n--- End of stack trace from previous location ---\r\n   at Microsoft.CodeAnalysis.Scripting.ScriptExecutionState.RunSubmissionsAsync[TResult](ImmutableArray`1 precedingExecutors, Func`2 currentExecutor, StrongBox`1 exceptionHolderOpt, Func`2 catchExceptionOpt, CancellationToken cancellationToken)",
     "output_type": "error",
     "traceback": [
      "System.NullReferenceException: Object reference not set to an instance of an object.\r\n",
      "   at Microsoft.SemanticKernel.Kernel.RunAsync(ContextVariables variables, CancellationToken cancellationToken, ISKFunction[] pipeline)\r\n",
      "   at Submission#24.<<Initialize>>d__0.MoveNext()\r\n",
      "--- End of stack trace from previous location ---\r\n",
      "   at Microsoft.CodeAnalysis.Scripting.ScriptExecutionState.RunSubmissionsAsync[TResult](ImmutableArray`1 precedingExecutors, Func`2 currentExecutor, StrongBox`1 exceptionHolderOpt, Func`2 catchExceptionOpt, CancellationToken cancellationToken)"
     ]
    }
   ],
   "source": [
    "\n",
    "var input = \"\"\"\n",
    "I think with some confidence I can say that 2023 is going to be the most exciting year that \n",
    "the AI community has ever had,” writes Kevin Scott, chief technology officer at Microsoft, \n",
    "in a Q&A on the company’s AI blog. He acknowledges that he also thought 2022 was the most \n",
    "exciting year for AI, but he believes that the pace of innovation is only increasing. \n",
    "This is particularly true with generative AI, which doesn’t simply analyze large data sets \n",
    "but is a tool people can use to create entirely new works. We can already see its promise \n",
    "in systems like GPT-3, which can do anything from helping copyedit and summarize text to \n",
    "providing inspiration, and DALL-E 2, which can create useful and arresting works of art \n",
    "based on text inputs. Here are some of Scott’s predictions about how AI will change the \n",
    "way we work and play.\n",
    "\"\"\";\n",
    "// Text source: https://www.microsoft.com/en-us/worklab/kevin-scott-on-5-ways-generative-ai-will-transform-work-in-2023\n",
    "\n",
    "var summary = await kernel.RunAsync(input, summaryFunction);\n",
    "\n",
    "Console.WriteLine(summary);"
   ]
  },
  {
   "attachments": {},
   "cell_type": "markdown",
   "metadata": {},
   "source": [
    "🎉 Hai appena creato la tua prima funzione semantica usando Semantic Kernel. Congratulazioni 🔥!\n",
    "\n",
    "> 🤔 **Ottieni il seguente `\"Error: Throttling: Too many requests ...\"` messaggio?** I servizi OpenAI risultano essere estremamente popolari in questi giorni. Se si utilizza la chiave per un account gratuito, questo messaggio apparirà spesso."
   ]
  },
  {
   "attachments": {},
   "cell_type": "markdown",
   "metadata": {},
   "source": [
    "# ⏭️ I prossimi passi\n",
    "\n",
    "Esempi più avanzati nei notebook disponibili nel repo GitHub all'indirizzo [https://aka.ms/sk/repo](https://aka.ms/sk/repo).\n",
    "\n",
    "[Vediamo le 🛢️ skills!](../e3-skills-rack/notebook.ipynb)"
   ]
  }
 ],
 "metadata": {
  "kernelspec": {
   "display_name": ".NET (C#)",
   "language": "C#",
   "name": ".net-csharp"
  },
  "language_info": {
   "name": "polyglot-notebook"
  },
  "polyglot_notebook": {
   "kernelInfo": {
    "defaultKernelName": "csharp",
    "items": [
     {
      "aliases": [],
      "languageName": "csharp",
      "name": "csharp"
     }
    ]
   }
  }
 },
 "nbformat": 4,
 "nbformat_minor": 2
}
