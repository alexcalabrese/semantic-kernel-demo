{
 "cells": [
  {
   "attachments": {},
   "cell_type": "markdown",
   "metadata": {},
   "source": [
    "\n",
    "---\n",
    "\n",
    "### Promemoria: questo 📘 `.NET Interactive` deve essere eseguito da VS Code con [questi prerequisiti](../PREREQS.md).\n",
    "\n",
    "---"
   ]
  },
  {
   "attachments": {},
   "cell_type": "markdown",
   "metadata": {},
   "source": [
    "<!-- \n",
    "#### How to use this notebook: \n",
    "\n",
    "* Just read the text and scroll along until you run into code blocks.\n",
    "* Code blocks have computer code inside them — hover over the block and you can run the code.\n",
    "* Run the code by hitting the ▶️ \"play\" button to the left. If the code runs you'll see a ✔️. If not, you'll get a ❌.\n",
    "* The output and status of the code block will appear just below itself — you need to scroll down further to see it.\n",
    "* Sometimes a code block will ask you for input in a hard-to-notice dialog box 👆 at the top of your notebook window.  -->\n",
    "\n",
    "<!-- --- -->"
   ]
  },
  {
   "attachments": {},
   "cell_type": "markdown",
   "metadata": {},
   "source": [
    "# Recipe III: 🛢️ Skills\n",
    "## 🧑‍🍳 Imparare a utilizzare le skill come moduli riutilizzabili\n",
    "\n",
    "Uno dei punti di forza di Semantic Kernel è la possibilità di riutilizzare facilmente le funzioni semantiche, ricordando che una skill è una cartella di funzioni.\n",
    "\n",
    "```\n",
    "📁 SKILL\n",
    "│\n",
    "└─── 📂 FUNCTION\n",
    "     |\n",
    "     └─── 📄 skprompt.txt\n",
    "```"
   ]
  },
  {
   "attachments": {},
   "cell_type": "markdown",
   "metadata": {},
   "source": [
    "<!-- 🛢️🔥 Learn how skills are used as reusable modules\n",
    "\n",
    "One of the ways that Semantic Kernel shines is the way you can easily reuse semantic functions. There's a simple folder structure we use that's described in greater detail [here](https://learn.microsoft.com/en-us/semantic-kernel/howto/semanticfunctions), but let's do a quick review of how Semantic Skills and Semantic Functions can be stored as conventional files.\n",
    "\n",
    "In a nutshell, just remember that a skill is a folder of functions. And each function contains an `skprompt.txt` definition.\n",
    "\n",
    "```\n",
    "📁 SKILL\n",
    "│\n",
    "└─── 📂 FUNCTION\n",
    "     |\n",
    "     └─── 📄 skprompt.txt\n",
    "``` -->"
   ]
  },
  {
   "attachments": {},
   "cell_type": "markdown",
   "metadata": {},
   "source": [
    "## Fun Fact 1. 🛢️ Le Semantic skills sono 📁 cartelle di ⚡ funzioni\n",
    "\n",
    "Le funzioni semantiche si trovano nelle directory delle skill semantiche.\\\n",
    "Le skill semantiche saranno collocate all'interno di una directory chiamata `skills.`\\\n",
    "Il modo in cui si accede a una funzione semantica è attraverso il nome dell'abilità. Come `A-Skill.A-Function` o `A-Skill.Another-Function.`.\n",
    "\n",
    "```\n",
    "🗂️ skills\n",
    "│\n",
    "└─── 📁 A-Skill\n",
    "│    └─── ⚡ A-Function \n",
    "│    └─── ⚡ Another-Function   \n",
    "│\n",
    "└─── 📁 B-Skill\n",
    "│    └─── ⚡ Function-B1   \n",
    "│    └─── ⚡ Function-B2   \n",
    "│\n",
    "└─── 📁 C-Skill\n",
    "     └─── ⚡ Function-C1   \n",
    "\n",
    "```\n",
    "\n",
    "## Fun Fact 2. 🛢️ Le Funzioni Semantiche sono 📄 file di testo\n",
    "\n",
    "<!-- Multiple semantic functions can be shared as text files within enclosing folders to be packaged within a skill folder. This can be a little confusing, but there are skills and there are functions. Skills are like the biological genus (i.e. larger grouping) and functions are like the biological species (i.e the sub-genus). -->\n",
    "\n",
    "Questo `skprompt.txt` di cui abbiamo appena parlato, è la nostra Funzione Semantica!\n",
    "\n",
    "```\n",
    "📁 A-Skill\n",
    "│\n",
    "└─── ⚡ A-Function\n",
    "|    |\n",
    "│    └─── 📄 skprompt.txt\n",
    "│   \n",
    "└─── ⚡ Another-Function\n",
    "     |\n",
    "     └─── 📄 skprompt.txt\n",
    "```\n",
    "Il formato del file `config.json` è possibile visonarlo [qui](https://learn.microsoft.com/en-us/semantic-kernel/howto/configuringfunctions) ma se non è incluso, verrà utilizzato un comportamento predefinito.\n",
    "\n",
    "<!-- For this notebook, there are a few semantic skills available in the `skills` directory for you to check out. Keep the following hierarchy in mind: -->\n",
    "Per questo notebook, ci sono alcune skill semantiche disponibili nella directory `skills`.\n",
    "\n",
    "```\n",
    "Main `/skills` directory > semantic SKILLs > semantic functions within each SKILL\n",
    "```"
   ]
  },
  {
   "attachments": {},
   "cell_type": "markdown",
   "metadata": {},
   "source": [
    "## Step 1: Iniziare con l'istanziazione di un kernel 🔥\n",
    "\n",
    "Le informazioni sulla chiave API sono già state impostate, quindi basta premere ▶️ (play) e il gioco è fatto."
   ]
  },
  {
   "cell_type": "code",
   "execution_count": 1,
   "metadata": {
    "dotnet_interactive": {
     "language": "csharp"
    },
    "polyglot_notebook": {
     "kernelName": "csharp"
    }
   },
   "outputs": [
    {
     "data": {
      "text/html": [
       "<div><div></div><div></div><div><strong>Installed Packages</strong><ul><li><span>Microsoft.SemanticKernel, 0.9.61.1-preview</span></li></ul></div></div>"
      ]
     },
     "metadata": {},
     "output_type": "display_data"
    }
   ],
   "source": [
    "#r \"nuget: Microsoft.SemanticKernel, 0.9.61.1-preview\"\n",
    "\n",
    "#!import ../config/Settings.cs\n",
    "\n",
    "using Microsoft.SemanticKernel;\n",
    "using Microsoft.SemanticKernel.KernelExtensions;\n",
    "using System.IO;\n",
    "using Microsoft.SemanticKernel.Configuration;\n",
    "using Microsoft.SemanticKernel.SemanticFunctions;\n",
    "\n",
    "IKernel kernel = Microsoft.SemanticKernel.Kernel.Builder.Build();\n",
    "\n",
    "// Grab the locally stored credentials from the settings.json file. \n",
    "// Name the \"backend\" as \"davinci\" — assuming that you're using one of the davinci completion models. \n",
    "\n",
    "var (useAzureOpenAI, model, azureEndpoint, apiKey, orgId) = Settings.LoadFromFile();\n",
    "\n",
    "if (useAzureOpenAI)\n",
    "    kernel.Config.AddAzureOpenAITextCompletion(\"davinci\", model, azureEndpoint, apiKey);\n",
    "else\n",
    "    kernel.Config.AddOpenAITextCompletion(\"davinci\", model, apiKey, orgId);"
   ]
  },
  {
   "attachments": {},
   "cell_type": "markdown",
   "metadata": {},
   "source": [
    "😱 **Ricevete un messaggio di errore?** Nel [primo notebook](../s1e1-ez-starter-notebook/notebook.ipynb) abbiamo visto nel dettaglio questo passaggio."
   ]
  },
  {
   "attachments": {},
   "cell_type": "markdown",
   "metadata": {},
   "source": [
    "## Step 2: 🛢️ Accedere a una funzione semantica ⚡ dalla sua 📁 cartella delle skill\n",
    "\n",
    "Utilizzeremo la funzione semantica `Joke` che è accessibile all'interno della sottodirectory `FunSkill` di `skills.`\\\n",
    "Questa funzione può essere indicata come `FunSkill.Joke` per indicare come la funzione `Joke` si trovi all'interno di `FunSkill.`\n",
    "```\n",
    "🗂️ skills\n",
    "│\n",
    "└─── 📁 FunSkill\n",
    "|    |\n",
    "│    └─── ⚡ Joke\n",
    "│    └─── ⚡ Limerick\n",
    "│    └─── ⚡ Excuses\n",
    "│\n",
    "└─── 📁 ChatSkill\n",
    "```\n",
    "\n",
    "### Step 2.1:🛢️ Raccontami una barzelletta usando la funzione semantica `FunSkill.Joke`.\n",
    "\n",
    "E con questo, chiediamo all'AI LLM di raccontarci una barzelletta 😂."
   ]
  },
  {
   "cell_type": "code",
   "execution_count": 3,
   "metadata": {
    "dotnet_interactive": {
     "language": "csharp"
    },
    "polyglot_notebook": {
     "kernelName": "csharp"
    }
   },
   "outputs": [
    {
     "name": "stdout",
     "output_type": "stream",
     "text": [
      "\r\n",
      "Q: What did the time traveler say when they arrived in the dinosaur age?\r\n",
      "A: \"Wow, I really need to work on my aim!\"\r\n"
     ]
    }
   ],
   "source": [
    "// Load the Skills Directory\n",
    "var skillsDirectory = Path.Combine(System.IO.Directory.GetCurrentDirectory(), \"skills\");\n",
    "\n",
    "// Load the FunSkill from the Skills Directory\n",
    "var mySkill = kernel.ImportSemanticSkillFromDirectory(skillsDirectory, \"FunSkill\");\n",
    "\n",
    "// The default input variable \n",
    "var myInput = \"time travel to dinosaur age\";\n",
    "\n",
    "// Run the Function called Joke with the default parameter of $input\n",
    "var result = await kernel.RunAsync(myInput, mySkill[\"Joke\"]);\n",
    "\n",
    "// Return the result to the Notebook\n",
    "Console.WriteLine(result);"
   ]
  },
  {
   "attachments": {},
   "cell_type": "markdown",
   "metadata": {},
   "source": [
    "### Step 2.2: 🛢️ Fornire più input a una funzione semantica\n",
    "\n",
    "Ci sono in realtà due parametri utilizzati da `FunSkill.Joke`.\\\n",
    "Uno è `$input` e l'altro è `$audience_type`.\\\n",
    "Possiamo fornire questo contesto più ampio alla funzione semantica, assegnando le `ContextVariables`, e poi eseguire di nuovo la funzione semantica con il contesto più ampio rispetto al singolo `$input`:"
   ]
  },
  {
   "cell_type": "code",
   "execution_count": 4,
   "metadata": {
    "dotnet_interactive": {
     "language": "csharp"
    },
    "polyglot_notebook": {
     "kernelName": "csharp"
    }
   },
   "outputs": [
    {
     "name": "stdout",
     "output_type": "stream",
     "text": [
      "\r\n",
      "A snobby woman went to the department store and asked the salesperson, \"Do you have anything special?\" The salesperson replied, \"Yes, we have a special on socks - buy one, get one free!\" The woman looked at him disdainfully and said, \"No, I meant something special for me.\"\r\n"
     ]
    }
   ],
   "source": [
    "using Microsoft.SemanticKernel.Orchestration;\n",
    "\n",
    "// Reload the FunSkill from the Skills Directory in case you are changing it for fun\n",
    "var mySkill = kernel.ImportSemanticSkillFromDirectory(skillsDirectory, \"FunSkill\");\n",
    "\n",
    "// THIS IS NEW!\n",
    "var myContext = new ContextVariables(); \n",
    "\n",
    "// The variables are manually set when you use a ContextVariables object\n",
    "myContext.Set(\"input\", \"going to the department store\"); \n",
    "myContext.Set(\"audience_type\", \"snobby people\"); \n",
    "\n",
    "var myResult = await kernel.RunAsync(myContext,mySkill[\"Joke\"]);\n",
    "\n",
    "Console.WriteLine(myResult);"
   ]
  },
  {
   "attachments": {},
   "cell_type": "markdown",
   "metadata": {},
   "source": [
    "\n",
    "### Step 2.3: 🛢️ Ogni funzione semantica non ha bisogno di usare `$input`.\n",
    "\n",
    "L'uso della variabile di contesto predefinita `$input` è facoltativo.\\\n",
    "Ad esempio, `FunSkill.Limerick` ha due variabili di contesto `$name` e `$whoisname` da usare come segue:"
   ]
  },
  {
   "cell_type": "code",
   "execution_count": 5,
   "metadata": {
    "dotnet_interactive": {
     "language": "csharp"
    },
    "polyglot_notebook": {
     "kernelName": "csharp"
    }
   },
   "outputs": [
    {
     "name": "stdout",
     "output_type": "stream",
     "text": [
      "\r\n",
      "There once was a scientist named Marie,\r\n",
      "Who discovered some elements so rare.\r\n",
      "She was the first to win two Nobel Prizes,\r\n",
      "But she couldn't get her hands on some cheeses!\r\n"
     ]
    }
   ],
   "source": [
    "using Microsoft.SemanticKernel.Orchestration;\n",
    "\n",
    "// Load the Limerick function from the FunSkill\n",
    "\n",
    "var mySkill = kernel.ImportSemanticSkillFromDirectory(skillsDirectory, \"FunSkill\");\n",
    "\n",
    "var myContext = new ContextVariables(); \n",
    "myContext.Set(\"name\", \"Marie Curie\"); \n",
    "myContext.Set(\"who_is_name\", \"the great scientist\"); \n",
    "\n",
    "var myResult = await kernel.RunAsync(myContext,mySkill[\"Limerick\"]);\n",
    "\n",
    "Console.WriteLine(myResult);"
   ]
  },
  {
   "attachments": {},
   "cell_type": "markdown",
   "metadata": {},
   "source": [
    "# ⏭️ I prossimi passi\n",
    "\n",
    "Esempi più avanzati nei notebook disponibili nel nostro repo GitHub all'indirizzo [https://aka.ms/sk/repo](https://aka.ms/sk/repo).\n",
    "\n",
    "[Vediamo le 🍝 memories!](../e4-memories/notebook.ipynb)\n",
    "\n",
    "<!-- Or stay a longer while and change the `config.json` files to see how the different semantic functions behave. Or completely rewrite one of the functions that's been made available. -->"
   ]
  }
 ],
 "metadata": {
  "kernelspec": {
   "display_name": ".NET (C#)",
   "language": "C#",
   "name": ".net-csharp"
  },
  "language_info": {
   "name": "polyglot-notebook"
  },
  "polyglot_notebook": {
   "kernelInfo": {
    "defaultKernelName": "csharp",
    "items": [
     {
      "aliases": [],
      "languageName": "csharp",
      "name": "csharp"
     }
    ]
   }
  }
 },
 "nbformat": 4,
 "nbformat_minor": 2
}
