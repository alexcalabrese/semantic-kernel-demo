{
 "cells": [
  {
   "attachments": {},
   "cell_type": "markdown",
   "metadata": {},
   "source": [
    "# Ricetta I: ⏲️ La cucina\n",
    "## 🧑‍🍳 Benvenuti in cucina!\n",
    "\n",
    "## 1. Costruire con Semantic Kernel è come cucinare la pasta Aglio e Olio 🛢️🍝🧄🔥\n",
    "\n",
    "## 2. Cosa c'entra 🛢️🍝🧄🔥 la cucina con la creazione di deliziose esperienze di AI?\n",
    "\n",
    "Come la ricetta speciale di Nosrat per cucinare un ottimo pasto, SK ha quattro elementi chiave per utilizzare gli LLM per cucinare esperienze di IA straordinarie:\n",
    "\n",
    "| 🍽️ Analogia | SK Termine | Descrizione di \"Ingrediente\" |\n",
    "|---|---|---|\n",
    "| 🛢️ Olio | SKILLS | 🛢️ Blocchi di base dell'intelligenza artificiale LLM che possono essere memorizzati e riutilizzati |\n",
    "| 🍝 Pasta | MEMORIES | 🍝 Ricche informazioni contestuali per migliorare le richieste ad un LLM |\n",
    "| 🧄 Aglio | CONNECTORS | 🧄 Dati e funzionalità fresche e in tempo reale per un LLM |\n",
    "| 🔥 Fiamma | KERNEL | 🔥 Potente fiamma. Attenzione alla temperatura!  |\n",
    "\n",
    "Per cucinare con Semantic Kernel avrete sempre bisogno di 🔥 Kernel e di 🛢️ Skills.\n",
    "Ma quando si selezionano con cura le Memories 🍝 che si desidera integrare e si aggiungono dati freschi dai Connectors 🧄 può accadere qualcosa di ancora più magico.\n"
   ]
  },
  {
   "attachments": {},
   "cell_type": "markdown",
   "metadata": {},
   "source": [
    "### Partiamo\n",
    "\n",
    "#### Notebook & .NET Interactive\n",
    "\n",
    "\n",
    "👋 Quando si preme \"play\" qui sotto sul blocco di codice ci chiederà di:\n",
    " \n",
    "```\n",
    "Select kernel for <filename>\n",
    "----\n",
    ".NET Interactive 👈\n",
    "Select Another Kernel...\n",
    "----\n",
    "```\n",
    "\n",
    "Selezionare `.NET Interactive` e saremo a posto. Ora potremo eseguire magicamente i notebook usando Semantic Kernel."
   ]
  },
  {
   "cell_type": "code",
   "execution_count": 3,
   "metadata": {
    "dotnet_interactive": {
     "language": "csharp"
    },
    "polyglot_notebook": {
     "kernelName": "csharp"
    },
    "vscode": {
     "languageId": "polyglot-notebook"
    }
   },
   "outputs": [
    {
     "name": "stdout",
     "output_type": "stream",
     "text": [
      "Microphone test. Check one. Two. Three.\r\n"
     ]
    }
   ],
   "source": [
    "// 👈 Si dovrebbe vedere un pulsante ▶️ (play) su\n",
    "// a sinistra se si fa clic in questo blocco,\n",
    "// oppure passate il mouse su questo blocco\n",
    "// Cliccare! E si dovrebbe vedere un risultato\n",
    "// sotto questo blocco di codice.\n",
    "\n",
    "Console.WriteLine(\"Microphone test. Check one. Two. Three.\");"
   ]
  },
  {
   "attachments": {},
   "cell_type": "markdown",
   "metadata": {},
   "source": [
    "## 4. Iniziamo\n",
    "Se avete completato tutti i prerequisiti e vi sentite pronti a partire, iniziamo con il primo Notebook.\n",
    "\n",
    "[Andiamo!](../e2-first-dish/notebook.ipynb)"
   ]
  }
 ],
 "metadata": {
  "language_info": {
   "name": "python"
  },
  "orig_nbformat": 4
 },
 "nbformat": 4,
 "nbformat_minor": 2
}
