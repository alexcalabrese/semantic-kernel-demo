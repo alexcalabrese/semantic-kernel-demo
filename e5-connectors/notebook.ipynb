{
 "cells": [
  {
   "attachments": {},
   "cell_type": "markdown",
   "metadata": {},
   "source": [
    "---\n",
    "\n",
    "### Promemoria: questo 📘 `.NET Interactive` deve essere eseguito da VS Code con [questi prerequisiti](../PREREQS.md).\n",
    "\n",
    "---"
   ]
  },
  {
   "attachments": {},
   "cell_type": "markdown",
   "metadata": {},
   "source": [
    "<!-- #### How to use this notebook: \n",
    "\n",
    "* Just read the text and scroll along until you run into code blocks.\n",
    "* Code blocks have computer code inside them — hover over the block and you can run the code.\n",
    "* Run the code by hitting the ▶️ \"play\" button to the left. If the code runs you'll see a ✔️. If not, you'll get a ❌.\n",
    "* The output and status of the code block will appear just below itself — you need to scroll down further to see it.\n",
    "* Sometimes a code block will ask you for input in a hard-to-notice dialog box 👆 at the top of your notebook window.  -->\n",
    "\n",
    "<!-- --- -->"
   ]
  },
  {
   "attachments": {},
   "cell_type": "markdown",
   "metadata": {},
   "source": [
    "# Ricetta V: 🧄 Connettori con Bing\n",
    "## 🧑‍🍳 Cucinare utilizzando un contesto con dati in tempo reale dalle API\n",
    "\n",
    "## Step 1: Instanziare un 🔥 kernel "
   ]
  },
  {
   "cell_type": "code",
   "execution_count": 40,
   "metadata": {
    "dotnet_interactive": {
     "language": "csharp"
    },
    "polyglot_notebook": {
     "kernelName": "csharp"
    },
    "vscode": {
     "languageId": "polyglot-notebook"
    }
   },
   "outputs": [
    {
     "data": {
      "text/html": [
       "<div><div></div><div></div><div><strong>Installed Packages</strong><ul><li><span>Microsoft.SemanticKernel, 0.9.61.1-preview</span></li><li><span>Microsoft.SemanticKernel.Skills.Web, 0.9.61.1-preview</span></li></ul></div></div>"
      ]
     },
     "metadata": {},
     "output_type": "display_data"
    }
   ],
   "source": [
    "#r \"nuget: Microsoft.SemanticKernel, 0.9.61.1-preview\"\n",
    "#r \"nuget: Microsoft.SemanticKernel.Skills.Web, 0.9.61.1-preview\"\n",
    "\n",
    "#!import ../config/Settings.cs\n",
    "\n",
    "using Microsoft.SemanticKernel;\n",
    "using Microsoft.SemanticKernel.KernelExtensions;\n",
    "using Microsoft.SemanticKernel.Configuration;\n",
    "using Microsoft.SemanticKernel.SemanticFunctions;\n",
    "using Microsoft.SemanticKernel.Orchestration;\n",
    "\n",
    "IKernel kernel = Microsoft.SemanticKernel.Kernel.Builder.Build();\n",
    "\n",
    "var (useAzureOpenAI, model, azureEndpoint, apiKey, orgId) = Settings.LoadFromFile();\n",
    "\n",
    "if (useAzureOpenAI)\n",
    "    kernel.Config.AddAzureOpenAITextCompletion(\"davinci\", model, azureEndpoint, apiKey);\n",
    "else\n",
    "    kernel.Config.AddOpenAITextCompletion(\"davinci\", model, apiKey, orgId);"
   ]
  },
  {
   "attachments": {},
   "cell_type": "markdown",
   "metadata": {},
   "source": [
    "## Step 2: Integrare i dati in tempo reale con l'API di ricerca web di Bing 🧄 utilizzando il Connector\n",
    "\n",
    "Per ottenere una chiave API di Bing Web Search, visitate [questa risorsa](https://www.microsoft.com/en-us/bing/apis/bing-web-search-api) per iniziare.\\\n",
    "A questo punto si possono prendere le informazioni della ricerca in tempo reale e aggiungerle al contesto scelto.\\\n",
    "Ad esempio, possiamo scoprire qual è l'edificio più alto d'Europa:"
   ]
  },
  {
   "cell_type": "code",
   "execution_count": 70,
   "metadata": {
    "dotnet_interactive": {
     "language": "csharp"
    },
    "polyglot_notebook": {
     "kernelName": "csharp"
    },
    "vscode": {
     "languageId": "polyglot-notebook"
    }
   },
   "outputs": [
    {
     "name": "stdout",
     "output_type": "stream",
     "text": [
      "62469983026a49dd91a88de80e898009\r\n"
     ]
    }
   ],
   "source": [
    "using Microsoft.SemanticKernel.Skills.Web;\n",
    "using Microsoft.SemanticKernel.Skills.Web.Bing;\n",
    "using Newtonsoft.Json;\n",
    "\n",
    "// var bingApiKey = await InteractiveKernel.GetPasswordAsync(\"Please enter your Bing Search API key\");\n",
    "var bingApiKey = File.ReadAllText(\"../config/settings.json\");\n",
    "dynamic settings = JsonConvert.DeserializeObject(File.ReadAllText(\"../config/settings.json\"));\n",
    "bingApiKey =  settings[\"bingApiKey\"];\n",
    "\n",
    "var bingConnector = new BingConnector(bingApiKey);\n",
    "\n",
    "var webSearchEngineSkill = new WebSearchEngineSkill(bingConnector);\n",
    "var web = kernel.ImportSkill(webSearchEngineSkill);\n",
    "\n",
    "var bingResult = await kernel.RunAsync(\n",
    "    \"What's the tallest building in NYC?\", \n",
    "    web[\"SearchAsync\"]\n",
    ");\n",
    "Console.WriteLine(bingResult);"
   ]
  },
  {
   "attachments": {},
   "cell_type": "markdown",
   "metadata": {},
   "source": [
    "> ✅ Tenete presente che per ottenere una chiave API di Bing Web Search è necessario disporre di un account Azure gratuito o di un account Azure a pagamento con credenziali di fatturazione attive.\n",
    "\n",
    "> 🤔 **Ottieni il seguente `\"Error: Response status code does not indicate success: 401 (PermissionDenied).\"` messaggio?** Tpotrebbe accadere se si è appena effettuato il provisioning di un'API di Bing Web Search. Attendere qualche minuto e riprovare.\n",
    "\n",
    "<!-- > 😱 **Get a different error message?** go to https://aka.ms/sk/discord where we have realtime support available to troubleshoot your problem. -->"
   ]
  },
  {
   "attachments": {},
   "cell_type": "markdown",
   "metadata": {},
   "source": [
    "## Step 3: Combiniamo 🍝 memories esistenti with nuovi 🛢️ dati\n",
    "\n",
    "Portiamo le nostre 🍝 **Memories** a un livello superiore, fornendogli memories \"live\" che vengono forniti tramite un 🧄 **Connector**.\\\n",
    "Inseriamo l'output della funzione `SearchAsync` in una ⚡ **Funzione Semantica** inline creata su misura per raccontare una breve storia, includendo alcuni \"fatti\" come 🍝 Memories inline , come:\n",
    "\n",
    "1. I'm tall-ish: about 5ft 11in | `\"Sono piuttosto alto: circa 1 metro e 80.\"`\n",
    "2. I like sushi — but not the kind with uni | `\"Mi piace il sushi - ma non quello con l'uni\"`\n",
    "\n",
    "E aggiungiamo un ricordo fresco che prendiamo da un 🧄 Bing connettor per vantarci di essere stati sull'`edificio più alto di New York`, aggiungendo un terzo dato:\n",
    "\n",
    "3. I've been to `<the tallest building in NYC>`"
   ]
  },
  {
   "cell_type": "code",
   "execution_count": 5,
   "metadata": {
    "dotnet_interactive": {
     "language": "csharp"
    },
    "polyglot_notebook": {
     "kernelName": "csharp"
    },
    "vscode": {
     "languageId": "polyglot-notebook"
    }
   },
   "outputs": [
    {
     "name": "stdout",
     "output_type": "stream",
     "text": [
      "\n",
      "I'm a tall-ish person, standing at 5ft 11in. I love sushi, but not the kind with uni. I've been to the tallest building in the United States, One World Trade Center, which stands at 1,776 feet. It's a 104-story skyscraper and the tallest building in the Western Hemisphere. I'm always looking for new experiences and I'm excited to see what the future holds.\r\n"
     ]
    }
   ],
   "source": [
    "var myInlineSemanticFunction = kernel.CreateSemanticFunction(@\"\n",
    "These are facts about me:\n",
    "1. I'm tall-ish: about 5ft 11in\n",
    "2. I like sushi — but not the kind with uni\n",
    "3. I've been to {{$input}}\n",
    "Here is a short story under 100 words about me:\n",
    "\", maxTokens: 200, temperature: 0.1, topP: .1);\n",
    "\n",
    "var result = await kernel.RunAsync(\n",
    "    \"What's the tallest building in NYC?\", \n",
    "    web[\"SearchAsync\"],\n",
    "    myInlineSemanticFunction\n",
    ");\n",
    "\n",
    "Console.WriteLine(result);"
   ]
  },
  {
   "attachments": {},
   "cell_type": "markdown",
   "metadata": {},
   "source": [
    "Ora potete vedere come è possibile utilizzare Semantic Kernel in vari modi: dalla progettazione di prompt, all'espansione del contesto di un prompt con le memories, fino all'inserimento di dati in tempo reale.\n",
    "\n",
    "## Step 4: Facciamo un ulteriore passo avanti e aggiungiamo un po' di condimento con la `SummarizeSkill.Notegen` ⚡ function"
   ]
  },
  {
   "cell_type": "code",
   "execution_count": 6,
   "metadata": {
    "dotnet_interactive": {
     "language": "csharp"
    },
    "polyglot_notebook": {
     "kernelName": "csharp"
    },
    "vscode": {
     "languageId": "polyglot-notebook"
    }
   },
   "outputs": [
    {
     "name": "stdout",
     "output_type": "stream",
     "text": [
      "Personal Info\r\n",
      "- 5ft 11in\r\n",
      "- Likes sushi, not uni\r\n",
      "- Visited One World Trade Center (1,776ft, 104-story)\r\n",
      "- Always looking for new experiences\r\n"
     ]
    }
   ],
   "source": [
    "var skillsDirectory = Path.Combine(System.IO.Directory.GetCurrentDirectory(), \"skills\");\n",
    "var mySkill = kernel.ImportSemanticSkillFromDirectory(skillsDirectory, \"SummarizeSkill\");\n",
    "\n",
    "var result = await kernel.RunAsync(\n",
    "    \"What's the tallest building in NYC?\", \n",
    "    web[\"SearchAsync\"],\n",
    "    myInlineSemanticFunction,\n",
    "    mySkill[\"Notegen\"]\n",
    ");\n",
    "\n",
    "// Return the result to the Notebook\n",
    "Console.WriteLine(result);"
   ]
  },
  {
   "attachments": {},
   "cell_type": "markdown",
   "metadata": {},
   "source": [
    "Se si osserva attentamente il codice, abbiamo creato una \"catena\" di funzioni."
   ]
  },
  {
   "attachments": {},
   "cell_type": "markdown",
   "metadata": {},
   "source": [
    "<!-- # ⏭️ Next Steps\n",
    "\n",
    "Run through more advanced examples in the notebooks that are available in our GitHub repo at [https://aka.ms/sk/repo](https://aka.ms/sk/repo).\n",
    "\n",
    "[Design thinking with 🔥 kernel is up next!](../e6-design-chain/notebook.ipynb)\n",
    "\n",
    "Or stay a longer while and ask Bing to added new information from the Internet to fortify your LLM AI magic. And you can also try different functions within the `SummarizeSkill` to see different outputs in Step 4. -->"
   ]
  }
 ],
 "metadata": {
  "language_info": {
   "name": "python"
  },
  "orig_nbformat": 4
 },
 "nbformat": 4,
 "nbformat_minor": 2
}
